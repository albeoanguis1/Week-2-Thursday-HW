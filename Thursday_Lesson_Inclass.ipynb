{
 "cells": [
  {
   "cell_type": "markdown",
   "metadata": {},
   "source": [
    "# Object-Oriented-Programming (OOP)"
   ]
  },
  {
   "cell_type": "markdown",
   "metadata": {},
   "source": [
    "## Tasks Today:\n",
    "\n",
    "   \n",
    "\n",
    "1) <b>Creating a Class (Initializing/Declaring)</b> <br>\n",
    "2) <b>Using a Class (Instantiating)</b> <br>\n",
    " &nbsp;&nbsp;&nbsp;&nbsp; a) Creating One Instance <br>\n",
    " &nbsp;&nbsp;&nbsp;&nbsp; b) Creating Multiple Instances <br>\n",
    " &nbsp;&nbsp;&nbsp;&nbsp; c) In-Class Exercise #1 - Create a Class 'Car' and instantiate three different makes of cars <br>\n",
    "3) <b>The \\__init\\__() Method</b> <br>\n",
    " &nbsp;&nbsp;&nbsp;&nbsp; a) The 'self' Attribute <br>\n",
    "4) <b>Class Attributes</b> <br>\n",
    " &nbsp;&nbsp;&nbsp;&nbsp; a) Initializing Attributes <br>\n",
    " &nbsp;&nbsp;&nbsp;&nbsp; b) Setting an Attribute Outside of the \\__init\\__() Method <br>\n",
    " &nbsp;&nbsp;&nbsp;&nbsp; c) Setting Defaults for Attributes <br>\n",
    " &nbsp;&nbsp;&nbsp;&nbsp; d) Accessing Class Attributes <br>\n",
    " &nbsp;&nbsp;&nbsp;&nbsp; e) Changing Class Attributes <br>\n",
    " &nbsp;&nbsp;&nbsp;&nbsp; f) In-Class Exercise #2 - Add a color and wheels attribute to your 'Car' class <br>\n",
    "5) <b>Class Methods</b> <br>\n",
    " &nbsp;&nbsp;&nbsp;&nbsp; a) Creating <br>\n",
    " &nbsp;&nbsp;&nbsp;&nbsp; b) Calling <br>\n",
    " &nbsp;&nbsp;&nbsp;&nbsp; c) Modifying an Attribute's Value Through a Method <br>\n",
    " &nbsp;&nbsp;&nbsp;&nbsp; d) Incrementing an Attribute's Value Through a Method <br>\n",
    " &nbsp;&nbsp;&nbsp;&nbsp; e) In-Class Exercise #3 - Add a method that prints the cars color and wheel number, then call them <br>\n",
    "6) <b>Inheritance</b> <br>\n",
    " &nbsp;&nbsp;&nbsp;&nbsp; a) Syntax for Inheriting from a Parent Class <br>\n",
    " &nbsp;&nbsp;&nbsp;&nbsp; b) The \\__init\\__() Method for a Child Class (super()) <br>\n",
    " &nbsp;&nbsp;&nbsp;&nbsp; c) Defining Attributes and Methods for the Child Class <br>\n",
    " &nbsp;&nbsp;&nbsp;&nbsp; d) Method Overriding <br>\n",
    " &nbsp;&nbsp;&nbsp;&nbsp; e) In-Class Exercise #4 - Create a class 'Ford' that inherits from 'Car' class and initialize it as a Blue Ford Explorer with 4 wheels using the super() method <br>\n",
    "7) <b>Classes as Attributes</b> <br>\n",
    "8) <b>Exercises</b> <br>\n",
    " &nbsp;&nbsp;&nbsp;&nbsp; a) Exercise #1 - Turn the shopping cart program from yesterday into an object-oriented program <br>"
   ]
  },
  {
   "cell_type": "markdown",
   "metadata": {},
   "source": [
    "## Creating a Class (Initializing/Declaring)\n",
    "<p>When creating a class, function, or even a variable you are initializing that object. Initializing and Declaring occur at the same time in Python, whereas in lower level languages you have to declare an object before initializing it. This is the first step in the process of using a class.</p>"
   ]
  },
  {
   "cell_type": "code",
   "execution_count": 4,
   "metadata": {},
   "outputs": [],
   "source": [
    "class Car():\n",
    "    wheels = 4\n",
    "    color = 'blue'"
   ]
  },
  {
   "cell_type": "markdown",
   "metadata": {},
   "source": [
    "## Using a Class (Instantiating)\n",
    "<p>The process of creating a class is called <i>Instantiating</i>. Each time you create a variable of that type of class, it is referred to as an <i>Instance</i> of that class. This is the second step in the process of using a class.</p>"
   ]
  },
  {
   "cell_type": "markdown",
   "metadata": {},
   "source": [
    "##### Creating One Instance"
   ]
  },
  {
   "cell_type": "code",
   "execution_count": null,
   "metadata": {},
   "outputs": [],
   "source": [
    "ford = Car()"
   ]
  },
  {
   "cell_type": "markdown",
   "metadata": {},
   "source": [
    "##### Creating Multiple Instances"
   ]
  },
  {
   "cell_type": "code",
   "execution_count": null,
   "metadata": {},
   "outputs": [],
   "source": []
  },
  {
   "cell_type": "markdown",
   "metadata": {},
   "source": [
    "##### In-Class Exercise #1 - Create a Class 'Car' and Instantiate three different makes of cars"
   ]
  },
  {
   "cell_type": "code",
   "execution_count": 6,
   "metadata": {},
   "outputs": [
    {
     "name": "stdout",
     "output_type": "stream",
     "text": [
      "4\n",
      "black\n",
      "4\n"
     ]
    }
   ],
   "source": [
    "class Car():\n",
    "    doors = 4\n",
    "    color = 'black'\n",
    "    wheels = 4\n",
    "chevrolet = Car()\n",
    "ford = Car()\n",
    "yota = Car()\n",
    "\n",
    "print(ford.wheels)\n",
    "print(chevrolet.color)\n",
    "print(yota.doors)"
   ]
  },
  {
   "cell_type": "markdown",
   "metadata": {},
   "source": [
    "## The \\__init\\__() Method <br>\n",
    "<p>This method is used in almost every created class, and called only once upon the creation of the class instance. This method will initialize all variables needed for the object.</p>"
   ]
  },
  {
   "cell_type": "code",
   "execution_count": 23,
   "metadata": {},
   "outputs": [
    {
     "name": "stdout",
     "output_type": "stream",
     "text": [
      "4\n",
      "black\n",
      "mazda\n",
      "This is a yellow 2023 Tesla CyberTruck\n",
      "This is a black 2016 mazda 3\n"
     ]
    },
    {
     "ename": "NameError",
     "evalue": "name 'car' is not defined",
     "output_type": "error",
     "traceback": [
      "\u001b[1;31m---------------------------------------------------------------------------\u001b[0m",
      "\u001b[1;31mNameError\u001b[0m                                 Traceback (most recent call last)",
      "Input \u001b[1;32mIn [23]\u001b[0m, in \u001b[0;36m<cell line: 22>\u001b[1;34m()\u001b[0m\n\u001b[0;32m     19\u001b[0m car2\u001b[38;5;241m.\u001b[39mprintInfo()\n\u001b[0;32m     20\u001b[0m car1\u001b[38;5;241m.\u001b[39mprintInfo()\n\u001b[1;32m---> 22\u001b[0m \u001b[43mcar\u001b[49m\u001b[38;5;241m.\u001b[39mprintInfo(car2)\n",
      "\u001b[1;31mNameError\u001b[0m: name 'car' is not defined"
     ]
    }
   ],
   "source": [
    "class Car():\n",
    "    wheels = 4\n",
    "    def __init__(self, c, make, model, year): #aka the constructor\n",
    "        self.color = c\n",
    "        self.make = make \n",
    "        self.model = model\n",
    "        self.year = year\n",
    "        \n",
    "    def printInfo(self):\n",
    "        print(f'This is a {self.color } {self.year} {self.make} {self.model}')\n",
    "        \n",
    "car1 = Car('black', 'mazda', '3', 2016)\n",
    "print(car1.wheels)\n",
    "print(car1.color)\n",
    "print(car1.make)\n",
    "\n",
    "car2 = Car('yellow' , 'Tesla', 'CyberTruck', '2023') \n",
    "\n",
    "car2.printInfo()\n",
    "car1.printInfo()\n",
    "\n",
    "car.printInfo(car2)"
   ]
  },
  {
   "cell_type": "markdown",
   "metadata": {},
   "source": [
    "##### The 'self' Attribute <br>\n",
    "<p>This attribute is required to keep track of specific instance's attributes. Without the self attribute, the program would not know how to reference or keep track of an instance's attributes.</p>"
   ]
  },
  {
   "cell_type": "code",
   "execution_count": null,
   "metadata": {},
   "outputs": [],
   "source": [
    "# see above\n"
   ]
  },
  {
   "cell_type": "markdown",
   "metadata": {},
   "source": [
    "## Class Attributes <br>\n",
    "<p>While variables are inside of a class, they are referred to as attributes and not variables. When someone says 'attribute' you know they're speaking about a class. Attributes can be initialized through the init method, or outside of it.</p>"
   ]
  },
  {
   "cell_type": "markdown",
   "metadata": {},
   "source": [
    "##### Initializing Attributes"
   ]
  },
  {
   "cell_type": "code",
   "execution_count": null,
   "metadata": {},
   "outputs": [],
   "source": [
    "# see above"
   ]
  },
  {
   "cell_type": "markdown",
   "metadata": {},
   "source": [
    "##### Accessing Class Attributes"
   ]
  },
  {
   "cell_type": "code",
   "execution_count": null,
   "metadata": {
    "scrolled": true
   },
   "outputs": [],
   "source": [
    "# See Above"
   ]
  },
  {
   "cell_type": "markdown",
   "metadata": {},
   "source": [
    "##### Setting Defaults for Attributes"
   ]
  },
  {
   "cell_type": "code",
   "execution_count": 26,
   "metadata": {},
   "outputs": [
    {
     "name": "stdout",
     "output_type": "stream",
     "text": [
      "4\n",
      "black\n",
      "mazda\n"
     ]
    },
    {
     "data": {
      "text/plain": [
       "{'color': 'black', 'make': 'mazda', 'model': '3', 'year': 2016, 'isfast': True}"
      ]
     },
     "execution_count": 26,
     "metadata": {},
     "output_type": "execute_result"
    }
   ],
   "source": [
    "#define in class scope but this is not the best way\n",
    "class Car():\n",
    "    wheels = 4\n",
    "    def __init__(self, c, make, model, year=2015, doors, seats): #aka the constructor\n",
    "        self.color = c\n",
    "        self.make = make \n",
    "        self.model = model\n",
    "        self.year = year\n",
    "        self.isfast = True\n",
    "        self.doors = doors\n",
    "        self.seats = seats\n",
    "        \n",
    "    def printInfo(self):\n",
    "        print(f'This is a {self.color } {self.year} {self.make} {self.model}')\n",
    "        \n",
    "car1 = Car('black', 'mazda', '3', 2016)\n",
    "print(car1.wheels)\n",
    "print(car1.color)\n",
    "print(car1.make)\n",
    "\n",
    "car1.__dict__"
   ]
  },
  {
   "cell_type": "markdown",
   "metadata": {},
   "source": [
    "##### Changing Class Attributes <br>\n",
    "<p>Keep in mind there are global class attributes and then there are attributes only available to each class instance which won't effect other classes.</p>"
   ]
  },
  {
   "cell_type": "code",
   "execution_count": 28,
   "metadata": {},
   "outputs": [
    {
     "name": "stdout",
     "output_type": "stream",
     "text": [
      "{'color': 'brown', 'make': 'honda', 'model': 'civic', 'year': 2015, 'isfast': True}\n",
      "{'color': 'brown', 'make': 'honda', 'model': 'civic', 'year': 2005, 'isfast': True}\n"
     ]
    }
   ],
   "source": [
    "c5 = Car('brown','honda', 'civic')\n",
    "print(c5.__dict__)\n",
    "c5.year=2005\n",
    "print(c5.__dict__)"
   ]
  },
  {
   "cell_type": "code",
   "execution_count": null,
   "metadata": {},
   "outputs": [],
   "source": []
  },
  {
   "cell_type": "markdown",
   "metadata": {},
   "source": [
    "##### In-Class Exercise #2 - Add a doors and seats attribute to your 'Car' class then print out two different instances with different doors and seats"
   ]
  },
  {
   "cell_type": "code",
   "execution_count": 46,
   "metadata": {},
   "outputs": [
    {
     "ename": "TypeError",
     "evalue": "__init__() takes from 4 to 5 positional arguments but 6 were given",
     "output_type": "error",
     "traceback": [
      "\u001b[1;31m---------------------------------------------------------------------------\u001b[0m",
      "\u001b[1;31mTypeError\u001b[0m                                 Traceback (most recent call last)",
      "Input \u001b[1;32mIn [46]\u001b[0m, in \u001b[0;36m<cell line: 1>\u001b[1;34m()\u001b[0m\n\u001b[1;32m----> 1\u001b[0m c6 \u001b[38;5;241m=\u001b[39m \u001b[43mCar\u001b[49m\u001b[43m(\u001b[49m\u001b[38;5;124;43m'\u001b[39;49m\u001b[38;5;124;43mgray\u001b[39;49m\u001b[38;5;124;43m'\u001b[39;49m\u001b[43m,\u001b[49m\u001b[43m \u001b[49m\u001b[38;5;124;43m'\u001b[39;49m\u001b[38;5;124;43mChevy\u001b[39;49m\u001b[38;5;124;43m'\u001b[39;49m\u001b[43m,\u001b[49m\u001b[43m \u001b[49m\u001b[38;5;124;43m'\u001b[39;49m\u001b[38;5;124;43mvolt\u001b[39;49m\u001b[38;5;124;43m'\u001b[39;49m\u001b[43m,\u001b[49m\u001b[43m \u001b[49m\u001b[38;5;124;43m'\u001b[39;49m\u001b[38;5;124;43m2\u001b[39;49m\u001b[38;5;124;43m'\u001b[39;49m\u001b[43m,\u001b[49m\u001b[43m \u001b[49m\u001b[38;5;124;43m'\u001b[39;49m\u001b[38;5;124;43mleather\u001b[39;49m\u001b[38;5;124;43m'\u001b[39;49m\u001b[43m)\u001b[49m\n\u001b[0;32m      2\u001b[0m \u001b[38;5;28mprint\u001b[39m(c6\u001b[38;5;241m.\u001b[39m\u001b[38;5;18m__dict__\u001b[39m)\n",
      "\u001b[1;31mTypeError\u001b[0m: __init__() takes from 4 to 5 positional arguments but 6 were given"
     ]
    }
   ],
   "source": [
    "c6 = Car('gray', 'Chevy', 'volt', '2', 'leather')\n",
    "print(c6.__dict__)"
   ]
  },
  {
   "cell_type": "markdown",
   "metadata": {},
   "source": [
    "## Class Methods <br>\n",
    "<p>While inside of a class, functions are referred to as 'methods'. If you hear someone mention methods, they're speaking about classes. Methods are essentially functions, but only callable on the instances of a class.</p>"
   ]
  },
  {
   "cell_type": "markdown",
   "metadata": {},
   "source": [
    "##### Creating"
   ]
  },
  {
   "cell_type": "code",
   "execution_count": 64,
   "metadata": {},
   "outputs": [
    {
     "ename": "SyntaxError",
     "evalue": "invalid syntax (2892098028.py, line 6)",
     "output_type": "error",
     "traceback": [
      "\u001b[1;36m  Input \u001b[1;32mIn [64]\u001b[1;36m\u001b[0m\n\u001b[1;33m    self.raise = 1.05\u001b[0m\n\u001b[1;37m         ^\u001b[0m\n\u001b[1;31mSyntaxError\u001b[0m\u001b[1;31m:\u001b[0m invalid syntax\n"
     ]
    }
   ],
   "source": [
    "class Employee():\n",
    "    def __init__(self, fname, lname, salary=80000):\n",
    "        self.fname= fname.title()\n",
    "        self.lname = lname.title()\n",
    "        self.email = fname + '.' + lname + '@company.com'.lower()\n",
    "        self.raise = 1.05\n",
    "        self.salary = salary\n",
    "        \n",
    "    #getter\n",
    "    def getFullName(self):\n",
    "        return f'{self.fname}{self.lname}'\n",
    "        \n",
    "    #setter\n",
    "    def applyraise(self):\n",
    "        self.salary = int(self.salary * self.raise)\n",
    "        \n",
    "    def changename(self, lname):\n",
    "        self.lname = lname\n",
    "        self.email = f'{self.fname}.{self.lname}@company.com'.lower()\n",
    "\n",
    "        \n",
    "e1 = Employee('Antonio', 'Popoca', 75000)\n",
    "e2 = Employee('Olivia', 'Filipiak')\n",
    "e3 = Employee('Bob', 'Builder', 100000)\n",
    "\n",
    "print(e1.getFullName())\n",
    "print(e1.email)\n",
    "\n",
    "print(e1.salary)\n",
    "e1.applyraise()\n",
    "print(e1.salary)"
   ]
  },
  {
   "cell_type": "markdown",
   "metadata": {},
   "source": [
    "##### Calling"
   ]
  },
  {
   "cell_type": "code",
   "execution_count": null,
   "metadata": {},
   "outputs": [],
   "source": [
    "# See Above"
   ]
  },
  {
   "cell_type": "markdown",
   "metadata": {},
   "source": [
    "##### Modifying an Attribute's Value Through a Method"
   ]
  },
  {
   "cell_type": "code",
   "execution_count": null,
   "metadata": {},
   "outputs": [],
   "source": []
  },
  {
   "cell_type": "markdown",
   "metadata": {},
   "source": [
    "##### Incrementing an Attribute's Value Through a Method"
   ]
  },
  {
   "cell_type": "code",
   "execution_count": null,
   "metadata": {},
   "outputs": [],
   "source": []
  },
  {
   "cell_type": "markdown",
   "metadata": {},
   "source": [
    "##### In-Class Exercise #3 - Add a method that takes in three parameters of year, doors and seats and prints out a formatted print statement with make, model, year, seats, and doors"
   ]
  },
  {
   "cell_type": "code",
   "execution_count": null,
   "metadata": {},
   "outputs": [],
   "source": [
    "# Create class with 2 paramters inside of the __init__ which are make and model\n",
    "\n",
    "# Inside of the Car class create a method that has 4 parameter in total (self,year,door,seats)\n",
    "\n",
    "# Output: This car is from 2019 and is a Ford Expolorer and has 4 doors and 5 seats\n",
    "\n"
   ]
  },
  {
   "cell_type": "markdown",
   "metadata": {},
   "source": [
    "## Inheritance <br>\n",
    "<p>You can create a child-parent relationship between two classes by using inheritance. What this allows you to do is have overriding methods, but also inherit traits from the parent class. Think of it as an actual parent and child, the child will inherit the parent's genes, as will the classes in OOP</p>"
   ]
  },
  {
   "cell_type": "markdown",
   "metadata": {},
   "source": [
    "##### Syntax for Inheriting from a Parent Class"
   ]
  },
  {
   "cell_type": "code",
   "execution_count": null,
   "metadata": {},
   "outputs": [],
   "source": []
  },
  {
   "cell_type": "markdown",
   "metadata": {},
   "source": [
    "##### The \\__init\\__() Method for a Child Class - super()"
   ]
  },
  {
   "cell_type": "code",
   "execution_count": null,
   "metadata": {
    "scrolled": true
   },
   "outputs": [],
   "source": []
  },
  {
   "cell_type": "markdown",
   "metadata": {},
   "source": [
    "##### Defining Attributes and Methods for the Child Class"
   ]
  },
  {
   "cell_type": "code",
   "execution_count": null,
   "metadata": {},
   "outputs": [],
   "source": [
    "# See Above"
   ]
  },
  {
   "cell_type": "markdown",
   "metadata": {},
   "source": [
    "##### Method Overriding"
   ]
  },
  {
   "cell_type": "code",
   "execution_count": null,
   "metadata": {},
   "outputs": [],
   "source": [
    "# See Above"
   ]
  },
  {
   "cell_type": "markdown",
   "metadata": {},
   "source": [
    "## Classes as Attributes <br>\n",
    "<p>Classes can also be used as attributes within another class. This is useful in situations where you need to keep variables locally stored, instead of globally stored.</p>"
   ]
  },
  {
   "cell_type": "code",
   "execution_count": 72,
   "metadata": {},
   "outputs": [
    {
     "name": "stdout",
     "output_type": "stream",
     "text": [
      "Woof\n",
      "Meow bitch\n"
     ]
    }
   ],
   "source": [
    "#parent\n",
    "class Animal():\n",
    "    def __init__(self, name, species, legs = 4):\n",
    "        self.name = name\n",
    "        self.species = species\n",
    "        self.legs = legs\n",
    "        \n",
    "        def talk(self):\n",
    "            print('dammit')\n",
    "        def breathe(self):\n",
    "            print(...)\n",
    "            \n",
    "#children            \n",
    "class Dog(Animal):\n",
    "    #constructor method will override the inheritted classes init method\n",
    "#    def __init__(self):\n",
    "#       pass\n",
    "    def talk(self):\n",
    "        print('Woof')\n",
    "        \n",
    "class Cat(Animal):\n",
    "    def __init__(self, anme, species, legs=4, isfast= False):\n",
    "        super().__init__\n",
    "    def talk(self):\n",
    "        print('Meow bitch')\n",
    "        \n",
    "a1 = Animal('Shoha', 'Human', 2)\n",
    "d1= Dog('Buddy', 'Canine')\n",
    "c1=Cat('Leo', 'Feline')\n",
    "\n",
    "d1.__dict__\n",
    "d1.talk()\n",
    "c1.talk()\n"
   ]
  },
  {
   "cell_type": "markdown",
   "metadata": {},
   "source": [
    "# Exercises"
   ]
  },
  {
   "cell_type": "markdown",
   "metadata": {},
   "source": [
    "### Exercise 1 - Turn the shopping cart program from yesterday into an object-oriented program\n",
    "\n",
    "The comments in the cell below are there as a guide for thinking about the problem. However, if you feel a different way is best for you and your own thought process, please do what feels best for you by all means."
   ]
  },
  {
   "cell_type": "code",
   "execution_count": 11,
   "metadata": {},
   "outputs": [
    {
     "name": "stdout",
     "output_type": "stream",
     "text": [
      "Welcome to myShopping Cart! Would you like to: Add / Remove / Show / End?  add\n",
      "What would you like to add today? chleb\n",
      "How many? 2\n",
      "Welcome to myShopping Cart! Would you like to: Add / Remove / Show / End?  show\n",
      "{'chleb': '2'}\n",
      "Welcome to myShopping Cart! Would you like to: Add / Remove / Show / End?  add\n",
      "What would you like to add today? bananas\n",
      "How many? 3\n",
      "Welcome to myShopping Cart! Would you like to: Add / Remove / Show / End?  show\n",
      "{'chleb': '2', 'bananas': '3'}\n",
      "Welcome to myShopping Cart! Would you like to: Add / Remove / Show / End?  remove\n",
      "Welcome to myShopping Cart! Would you like to: Add / Remove / Show / End?  show\n",
      "{'chleb': '2'}\n",
      "Welcome to myShopping Cart! Would you like to: Add / Remove / Show / End?  end\n"
     ]
    }
   ],
   "source": [
    "# Create a class called cart that retains items and has methods to add, remove, and show\n",
    "\n",
    "class Cart():\n",
    "    def __init__(self, foodDict={}):\n",
    "        self.foodDict = foodDict\n",
    "    \n",
    "    def add(self):\n",
    "        food = input('What would you like to add today? ')\n",
    "        quantity = input('How many? ')\n",
    "        self.foodDict[food] = quantity\n",
    "    \n",
    "    def remove(self):\n",
    "        self.foodDict.popitem()\n",
    "    \n",
    "    def show(self):\n",
    "        print(self.foodDict)\n",
    "    \n",
    "    \n",
    "def run():\n",
    "    start = Cart()\n",
    "    while True:\n",
    "        prompt = input(\"Welcome to myShopping Cart! Would you like to: Add / Remove / Show / End?  \").lower()\n",
    "\n",
    "        if prompt == 'add':\n",
    "            start.add()\n",
    "\n",
    "        elif prompt == 'remove':\n",
    "            start.remove()\n",
    "\n",
    "        elif prompt == 'show':\n",
    "            start.show()\n",
    "\n",
    "        elif prompt == 'end':\n",
    "            break\n",
    "\n",
    "        else:\n",
    "            print(\"Invalid input.\")\n",
    "\n",
    "run()"
   ]
  },
  {
   "cell_type": "markdown",
   "metadata": {},
   "source": [
    "### Exercise 2 - Write a Python class which has two methods get_String and print_String. get_String accept a string from the user and print_String print the string in upper case"
   ]
  },
  {
   "cell_type": "code",
   "execution_count": 34,
   "metadata": {},
   "outputs": [
    {
     "name": "stdout",
     "output_type": "stream",
     "text": [
      "Tell me a secret, and I'll shout it back! fuck\n",
      "FUCK\n"
     ]
    }
   ],
   "source": [
    "class String():\n",
    "    def __init__(self):\n",
    "        self.simpleString = \"\"\n",
    "    \n",
    "    def get_string(self):\n",
    "        self.simpleString = input(\"Tell me a secret, and I'll shout it back! \")\n",
    "    \n",
    "    def print_string(self):\n",
    "        print(self.simpleString.upper())\n",
    "        \n",
    "def run():\n",
    "    start = String()\n",
    "    start.get_string()\n",
    "    start.print_string()\n",
    "    \n",
    "run()"
   ]
  },
  {
   "cell_type": "code",
   "execution_count": null,
   "metadata": {},
   "outputs": [],
   "source": []
  }
 ],
 "metadata": {
  "kernelspec": {
   "display_name": "Python 3 (ipykernel)",
   "language": "python",
   "name": "python3"
  },
  "language_info": {
   "codemirror_mode": {
    "name": "ipython",
    "version": 3
   },
   "file_extension": ".py",
   "mimetype": "text/x-python",
   "name": "python",
   "nbconvert_exporter": "python",
   "pygments_lexer": "ipython3",
   "version": "3.9.7"
  }
 },
 "nbformat": 4,
 "nbformat_minor": 2
}
